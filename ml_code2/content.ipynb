{
 "cells": [
  {
   "cell_type": "code",
   "execution_count": 1,
   "metadata": {},
   "outputs": [],
   "source": [
    "import pandas as pd\n",
    "from sklearn.feature_extraction.text import TfidfVectorizer, CountVectorizer\n",
    "from sklearn.metrics.pairwise import linear_kernel, cosine_similarity\n",
    "from nltk.stem.snowball import SnowballStemmer\n",
    "from nltk.stem.wordnet import WordNetLemmatizer\n",
    "from ast import literal_eval\n",
    "\n",
    "tmdb_data = pd.read_csv(\"data_files/TMDB_SomewhatCleaned.csv\")\n",
    "movie_col = tmdb_data.columns"
   ]
  },
  {
   "cell_type": "code",
   "execution_count": 2,
   "metadata": {},
   "outputs": [
    {
     "data": {
      "text/plain": [
       "(4805, 12)"
      ]
     },
     "execution_count": 2,
     "metadata": {},
     "output_type": "execute_result"
    }
   ],
   "source": [
    "tmdb_data.shape"
   ]
  },
  {
   "cell_type": "code",
   "execution_count": 3,
   "metadata": {},
   "outputs": [
    {
     "data": {
      "text/html": [
       "<div>\n",
       "<style scoped>\n",
       "    .dataframe tbody tr th:only-of-type {\n",
       "        vertical-align: middle;\n",
       "    }\n",
       "\n",
       "    .dataframe tbody tr th {\n",
       "        vertical-align: top;\n",
       "    }\n",
       "\n",
       "    .dataframe thead th {\n",
       "        text-align: right;\n",
       "    }\n",
       "</style>\n",
       "<table border=\"1\" class=\"dataframe\">\n",
       "  <thead>\n",
       "    <tr style=\"text-align: right;\">\n",
       "      <th></th>\n",
       "      <th>movie_id</th>\n",
       "      <th>title</th>\n",
       "      <th>overview</th>\n",
       "      <th>genres</th>\n",
       "      <th>keywords</th>\n",
       "      <th>cast</th>\n",
       "      <th>crew</th>\n",
       "      <th>popularity</th>\n",
       "      <th>runtime</th>\n",
       "      <th>vote_average</th>\n",
       "      <th>vote_count</th>\n",
       "      <th>release_date</th>\n",
       "    </tr>\n",
       "  </thead>\n",
       "  <tbody>\n",
       "    <tr>\n",
       "      <th>0</th>\n",
       "      <td>19995</td>\n",
       "      <td>Avatar</td>\n",
       "      <td>In the 22nd century, a paraplegic Marine is di...</td>\n",
       "      <td>['Action', 'Adventure', 'Fantasy', 'ScienceFic...</td>\n",
       "      <td>['cultureclash', 'future', 'spacewar', 'spacec...</td>\n",
       "      <td>['SamWorthington', 'ZoeSaldana', 'SigourneyWea...</td>\n",
       "      <td>['JamesCameron']</td>\n",
       "      <td>150.437577</td>\n",
       "      <td>162.0</td>\n",
       "      <td>7.2</td>\n",
       "      <td>11800</td>\n",
       "      <td>2009-12-10</td>\n",
       "    </tr>\n",
       "    <tr>\n",
       "      <th>1</th>\n",
       "      <td>285</td>\n",
       "      <td>Pirates of the Caribbean: At World's End</td>\n",
       "      <td>Captain Barbossa, long believed to be dead, ha...</td>\n",
       "      <td>['Adventure', 'Fantasy', 'Action']</td>\n",
       "      <td>['ocean', 'drugabuse', 'exoticisland', 'eastin...</td>\n",
       "      <td>['JohnnyDepp', 'OrlandoBloom', 'KeiraKnightley']</td>\n",
       "      <td>['GoreVerbinski']</td>\n",
       "      <td>139.082615</td>\n",
       "      <td>169.0</td>\n",
       "      <td>6.9</td>\n",
       "      <td>4500</td>\n",
       "      <td>2007-05-19</td>\n",
       "    </tr>\n",
       "    <tr>\n",
       "      <th>2</th>\n",
       "      <td>206647</td>\n",
       "      <td>Spectre</td>\n",
       "      <td>A cryptic message from Bond’s past sends him o...</td>\n",
       "      <td>['Action', 'Adventure', 'Crime']</td>\n",
       "      <td>['spy', 'basedonnovel', 'secretagent', 'sequel...</td>\n",
       "      <td>['DanielCraig', 'ChristophWaltz', 'LéaSeydoux']</td>\n",
       "      <td>['SamMendes']</td>\n",
       "      <td>107.376788</td>\n",
       "      <td>148.0</td>\n",
       "      <td>6.3</td>\n",
       "      <td>4466</td>\n",
       "      <td>2015-10-26</td>\n",
       "    </tr>\n",
       "    <tr>\n",
       "      <th>3</th>\n",
       "      <td>49026</td>\n",
       "      <td>The Dark Knight Rises</td>\n",
       "      <td>Following the death of District Attorney Harve...</td>\n",
       "      <td>['Action', 'Crime', 'Drama', 'Thriller']</td>\n",
       "      <td>['dccomics', 'crimefighter', 'terrorist', 'sec...</td>\n",
       "      <td>['ChristianBale', 'MichaelCaine', 'GaryOldman']</td>\n",
       "      <td>['ChristopherNolan']</td>\n",
       "      <td>112.312950</td>\n",
       "      <td>165.0</td>\n",
       "      <td>7.6</td>\n",
       "      <td>9106</td>\n",
       "      <td>2012-07-16</td>\n",
       "    </tr>\n",
       "    <tr>\n",
       "      <th>4</th>\n",
       "      <td>49529</td>\n",
       "      <td>John Carter</td>\n",
       "      <td>John Carter is a war-weary, former military ca...</td>\n",
       "      <td>['Action', 'Adventure', 'ScienceFiction']</td>\n",
       "      <td>['basedonnovel', 'mars', 'medallion', 'spacetr...</td>\n",
       "      <td>['TaylorKitsch', 'LynnCollins', 'SamanthaMorton']</td>\n",
       "      <td>['AndrewStanton']</td>\n",
       "      <td>43.926995</td>\n",
       "      <td>132.0</td>\n",
       "      <td>6.1</td>\n",
       "      <td>2124</td>\n",
       "      <td>2012-03-07</td>\n",
       "    </tr>\n",
       "  </tbody>\n",
       "</table>\n",
       "</div>"
      ],
      "text/plain": [
       "   movie_id                                     title  \\\n",
       "0     19995                                    Avatar   \n",
       "1       285  Pirates of the Caribbean: At World's End   \n",
       "2    206647                                   Spectre   \n",
       "3     49026                     The Dark Knight Rises   \n",
       "4     49529                               John Carter   \n",
       "\n",
       "                                            overview  \\\n",
       "0  In the 22nd century, a paraplegic Marine is di...   \n",
       "1  Captain Barbossa, long believed to be dead, ha...   \n",
       "2  A cryptic message from Bond’s past sends him o...   \n",
       "3  Following the death of District Attorney Harve...   \n",
       "4  John Carter is a war-weary, former military ca...   \n",
       "\n",
       "                                              genres  \\\n",
       "0  ['Action', 'Adventure', 'Fantasy', 'ScienceFic...   \n",
       "1                 ['Adventure', 'Fantasy', 'Action']   \n",
       "2                   ['Action', 'Adventure', 'Crime']   \n",
       "3           ['Action', 'Crime', 'Drama', 'Thriller']   \n",
       "4          ['Action', 'Adventure', 'ScienceFiction']   \n",
       "\n",
       "                                            keywords  \\\n",
       "0  ['cultureclash', 'future', 'spacewar', 'spacec...   \n",
       "1  ['ocean', 'drugabuse', 'exoticisland', 'eastin...   \n",
       "2  ['spy', 'basedonnovel', 'secretagent', 'sequel...   \n",
       "3  ['dccomics', 'crimefighter', 'terrorist', 'sec...   \n",
       "4  ['basedonnovel', 'mars', 'medallion', 'spacetr...   \n",
       "\n",
       "                                                cast                  crew  \\\n",
       "0  ['SamWorthington', 'ZoeSaldana', 'SigourneyWea...      ['JamesCameron']   \n",
       "1   ['JohnnyDepp', 'OrlandoBloom', 'KeiraKnightley']     ['GoreVerbinski']   \n",
       "2    ['DanielCraig', 'ChristophWaltz', 'LéaSeydoux']         ['SamMendes']   \n",
       "3    ['ChristianBale', 'MichaelCaine', 'GaryOldman']  ['ChristopherNolan']   \n",
       "4  ['TaylorKitsch', 'LynnCollins', 'SamanthaMorton']     ['AndrewStanton']   \n",
       "\n",
       "   popularity  runtime  vote_average  vote_count release_date  \n",
       "0  150.437577    162.0           7.2       11800   2009-12-10  \n",
       "1  139.082615    169.0           6.9        4500   2007-05-19  \n",
       "2  107.376788    148.0           6.3        4466   2015-10-26  \n",
       "3  112.312950    165.0           7.6        9106   2012-07-16  \n",
       "4   43.926995    132.0           6.1        2124   2012-03-07  "
      ]
     },
     "execution_count": 3,
     "metadata": {},
     "output_type": "execute_result"
    }
   ],
   "source": [
    "tmdb_data.head()"
   ]
  },
  {
   "cell_type": "code",
   "execution_count": 13,
   "metadata": {},
   "outputs": [
    {
     "data": {
      "text/plain": [
       "Index(['Unnamed: 0', 'DTG', 'cast', 'crew', 'data_or_rate', 'genres',\n",
       "       'keywords', 'movie_id', 'overview', 'popularity', 'release_date',\n",
       "       'runtime', 'title', 'user_age', 'user_gender', 'user_id',\n",
       "       'user_occupation', 'user_rating', 'vote_count', 'vote_average',\n",
       "       'kafka_id'],\n",
       "      dtype='object')"
      ]
     },
     "execution_count": 13,
     "metadata": {},
     "output_type": "execute_result"
    }
   ],
   "source": [
    "rate_data = pd.read_csv(\"../data_files/10000_rate_with_right_id.csv\")\n",
    "rate_data.columns"
   ]
  },
  {
   "cell_type": "code",
   "execution_count": 14,
   "metadata": {},
   "outputs": [
    {
     "data": {
      "text/plain": [
       "71"
      ]
     },
     "execution_count": 14,
     "metadata": {},
     "output_type": "execute_result"
    }
   ],
   "source": [
    "rate_data['user_age'].isna().sum()"
   ]
  },
  {
   "cell_type": "code",
   "execution_count": 5,
   "metadata": {},
   "outputs": [
    {
     "data": {
      "text/plain": [
       "['Unnamed: 0',\n",
       " 'DTG',\n",
       " 'data_or_rate',\n",
       " 'user_age',\n",
       " 'user_gender',\n",
       " 'user_id',\n",
       " 'user_occupation',\n",
       " 'user_rating',\n",
       " 'kafka_id']"
      ]
     },
     "execution_count": 5,
     "metadata": {},
     "output_type": "execute_result"
    }
   ],
   "source": [
    "[col for col in rate_data.columns if col not in tmdb_data.columns]"
   ]
  },
  {
   "cell_type": "code",
   "execution_count": 6,
   "metadata": {},
   "outputs": [],
   "source": [
    "movie_col = list(movie_col)\n",
    "movie_col.append('kafka_id')"
   ]
  },
  {
   "cell_type": "code",
   "execution_count": 7,
   "metadata": {},
   "outputs": [
    {
     "data": {
      "text/plain": [
       "((10000, 13), (5878, 13))"
      ]
     },
     "execution_count": 7,
     "metadata": {},
     "output_type": "execute_result"
    }
   ],
   "source": [
    "movie_data = rate_data[movie_col]\n",
    "movie_data_nonduplicate = movie_data.drop_duplicates(ignore_index=True)\n",
    "movie_data.shape, movie_data_nonduplicate.shape"
   ]
  },
  {
   "cell_type": "code",
   "execution_count": 8,
   "metadata": {},
   "outputs": [
    {
     "data": {
      "text/plain": [
       "\"['Documentary', 'History', 'Music']\""
      ]
     },
     "execution_count": 8,
     "metadata": {},
     "output_type": "execute_result"
    }
   ],
   "source": [
    "movie_data_nonduplicate['genres'][0]"
   ]
  },
  {
   "cell_type": "code",
   "execution_count": 9,
   "metadata": {},
   "outputs": [
    {
     "data": {
      "text/plain": [
       "RangeIndex(start=0, stop=5878, step=1)"
      ]
     },
     "execution_count": 9,
     "metadata": {},
     "output_type": "execute_result"
    }
   ],
   "source": [
    "movie_data_nonduplicate.index"
   ]
  },
  {
   "cell_type": "code",
   "execution_count": 14,
   "metadata": {},
   "outputs": [],
   "source": [
    "# movie_ids = movie_data['movie_id'].unique()\n",
    "movie_idx_id = dict([(k, v) for k,v in zip(movie_data_nonduplicate.index, movie_data_nonduplicate['kafka_id'])])\n",
    "movie_id_idx = dict([(k, v) for k,v in zip(movie_data_nonduplicate['kafka_id'], movie_data_nonduplicate.index)])"
   ]
  },
  {
   "cell_type": "code",
   "execution_count": 11,
   "metadata": {},
   "outputs": [
    {
     "name": "stderr",
     "output_type": "stream",
     "text": [
      "/tmp/ipykernel_12806/3047139496.py:1: SettingWithCopyWarning: \n",
      "A value is trying to be set on a copy of a slice from a DataFrame.\n",
      "Try using .loc[row_indexer,col_indexer] = value instead\n",
      "\n",
      "See the caveats in the documentation: https://pandas.pydata.org/pandas-docs/stable/user_guide/indexing.html#returning-a-view-versus-a-copy\n",
      "  movie_data_nonduplicate['overview'] = movie_data_nonduplicate['overview'].fillna('')\n"
     ]
    },
    {
     "data": {
      "text/plain": [
       "(5878, 172215)"
      ]
     },
     "execution_count": 11,
     "metadata": {},
     "output_type": "execute_result"
    }
   ],
   "source": [
    "movie_data_nonduplicate['overview'] = movie_data_nonduplicate['overview'].fillna('')\n",
    "tf = TfidfVectorizer(analyzer='word', ngram_range=(1, 2), min_df=1, stop_words='english')\n",
    "tfidf_matrix = tf.fit_transform(movie_data_nonduplicate['overview'])\n",
    "tfidf_matrix.shape"
   ]
  },
  {
   "cell_type": "code",
   "execution_count": 1,
   "metadata": {},
   "outputs": [],
   "source": [
    "import pickle\n",
    "with open(\"content_recommend/tfidf_matrix.pkl\", \"rb\") as f:\n",
    "    tfidf = pickle.load(f)"
   ]
  },
  {
   "cell_type": "code",
   "execution_count": 2,
   "metadata": {},
   "outputs": [
    {
     "data": {
      "text/plain": [
       "(5878, 172215)"
      ]
     },
     "execution_count": 2,
     "metadata": {},
     "output_type": "execute_result"
    }
   ],
   "source": [
    "tfidf.shape"
   ]
  },
  {
   "cell_type": "code",
   "execution_count": 14,
   "metadata": {},
   "outputs": [
    {
     "name": "stderr",
     "output_type": "stream",
     "text": [
      "/tmp/ipykernel_632/2889720595.py:1: SettingWithCopyWarning: \n",
      "A value is trying to be set on a copy of a slice from a DataFrame.\n",
      "Try using .loc[row_indexer,col_indexer] = value instead\n",
      "\n",
      "See the caveats in the documentation: https://pandas.pydata.org/pandas-docs/stable/user_guide/indexing.html#returning-a-view-versus-a-copy\n",
      "  movie_data_nonduplicate['cast'] = movie_data_nonduplicate['cast'].apply(literal_eval)\n",
      "/tmp/ipykernel_632/2889720595.py:2: SettingWithCopyWarning: \n",
      "A value is trying to be set on a copy of a slice from a DataFrame.\n",
      "Try using .loc[row_indexer,col_indexer] = value instead\n",
      "\n",
      "See the caveats in the documentation: https://pandas.pydata.org/pandas-docs/stable/user_guide/indexing.html#returning-a-view-versus-a-copy\n",
      "  movie_data_nonduplicate['crew'] = movie_data_nonduplicate['crew'].apply(literal_eval)\n",
      "/tmp/ipykernel_632/2889720595.py:3: SettingWithCopyWarning: \n",
      "A value is trying to be set on a copy of a slice from a DataFrame.\n",
      "Try using .loc[row_indexer,col_indexer] = value instead\n",
      "\n",
      "See the caveats in the documentation: https://pandas.pydata.org/pandas-docs/stable/user_guide/indexing.html#returning-a-view-versus-a-copy\n",
      "  movie_data_nonduplicate['keywords'] = movie_data_nonduplicate['keywords'].apply(literal_eval)\n",
      "/tmp/ipykernel_632/2889720595.py:4: SettingWithCopyWarning: \n",
      "A value is trying to be set on a copy of a slice from a DataFrame.\n",
      "Try using .loc[row_indexer,col_indexer] = value instead\n",
      "\n",
      "See the caveats in the documentation: https://pandas.pydata.org/pandas-docs/stable/user_guide/indexing.html#returning-a-view-versus-a-copy\n",
      "  movie_data_nonduplicate['genres'] = movie_data_nonduplicate['genres'].apply(literal_eval)\n",
      "/tmp/ipykernel_632/2889720595.py:5: SettingWithCopyWarning: \n",
      "A value is trying to be set on a copy of a slice from a DataFrame.\n",
      "Try using .loc[row_indexer,col_indexer] = value instead\n",
      "\n",
      "See the caveats in the documentation: https://pandas.pydata.org/pandas-docs/stable/user_guide/indexing.html#returning-a-view-versus-a-copy\n",
      "  movie_data_nonduplicate['cast_size'] = movie_data_nonduplicate['cast'].apply(lambda x: len(x))\n",
      "/tmp/ipykernel_632/2889720595.py:6: SettingWithCopyWarning: \n",
      "A value is trying to be set on a copy of a slice from a DataFrame.\n",
      "Try using .loc[row_indexer,col_indexer] = value instead\n",
      "\n",
      "See the caveats in the documentation: https://pandas.pydata.org/pandas-docs/stable/user_guide/indexing.html#returning-a-view-versus-a-copy\n",
      "  movie_data_nonduplicate['crew_size'] = movie_data_nonduplicate['crew'].apply(lambda x: len(x))\n"
     ]
    }
   ],
   "source": [
    "movie_data_nonduplicate['cast'] = movie_data_nonduplicate['cast'].apply(literal_eval)\n",
    "movie_data_nonduplicate['crew'] = movie_data_nonduplicate['crew'].apply(literal_eval)\n",
    "movie_data_nonduplicate['keywords'] = movie_data_nonduplicate['keywords'].apply(literal_eval)\n",
    "movie_data_nonduplicate['genres'] = movie_data_nonduplicate['genres'].apply(literal_eval)\n",
    "movie_data_nonduplicate['cast_size'] = movie_data_nonduplicate['cast'].apply(lambda x: len(x))\n",
    "movie_data_nonduplicate['crew_size'] = movie_data_nonduplicate['crew'].apply(lambda x: len(x))"
   ]
  },
  {
   "cell_type": "code",
   "execution_count": 18,
   "metadata": {},
   "outputs": [
    {
     "name": "stderr",
     "output_type": "stream",
     "text": [
      "/tmp/ipykernel_632/4264403496.py:1: FutureWarning: The default dtype for empty Series will be 'object' instead of 'float64' in a future version. Specify a dtype explicitly to silence this warning.\n",
      "  s = movie_data_nonduplicate.apply(lambda x: pd.Series(x['keywords']),axis=1).stack().reset_index(level=1, drop=True)\n"
     ]
    }
   ],
   "source": [
    "s = movie_data_nonduplicate.apply(lambda x: pd.Series(x['keywords']),axis=1).stack().reset_index(level=1, drop=True)\n",
    "s.name = 'keyword'"
   ]
  },
  {
   "cell_type": "code",
   "execution_count": 22,
   "metadata": {},
   "outputs": [],
   "source": [
    "s = s.value_counts()"
   ]
  },
  {
   "cell_type": "code",
   "execution_count": 27,
   "metadata": {},
   "outputs": [
    {
     "data": {
      "text/plain": [
       "(4796,)"
      ]
     },
     "execution_count": 27,
     "metadata": {},
     "output_type": "execute_result"
    }
   ],
   "source": [
    "s.shape"
   ]
  },
  {
   "cell_type": "code",
   "execution_count": 23,
   "metadata": {},
   "outputs": [
    {
     "name": "stderr",
     "output_type": "stream",
     "text": [
      "/tmp/ipykernel_632/641771284.py:8: SettingWithCopyWarning: \n",
      "A value is trying to be set on a copy of a slice from a DataFrame.\n",
      "Try using .loc[row_indexer,col_indexer] = value instead\n",
      "\n",
      "See the caveats in the documentation: https://pandas.pydata.org/pandas-docs/stable/user_guide/indexing.html#returning-a-view-versus-a-copy\n",
      "  movie_data_nonduplicate['keywords'] = movie_data_nonduplicate['keywords'].apply(filter_keywords)\n"
     ]
    }
   ],
   "source": [
    "s = s[s > 1]\n",
    "def filter_keywords(x):\n",
    "    words = []\n",
    "    for i in x:\n",
    "        if i in s:\n",
    "            words.append(i)\n",
    "    return words\n",
    "movie_data_nonduplicate['keywords'] = movie_data_nonduplicate['keywords'].apply(filter_keywords)"
   ]
  },
  {
   "cell_type": "code",
   "execution_count": 24,
   "metadata": {},
   "outputs": [
    {
     "name": "stderr",
     "output_type": "stream",
     "text": [
      "/tmp/ipykernel_632/3263076369.py:1: SettingWithCopyWarning: \n",
      "A value is trying to be set on a copy of a slice from a DataFrame.\n",
      "Try using .loc[row_indexer,col_indexer] = value instead\n",
      "\n",
      "See the caveats in the documentation: https://pandas.pydata.org/pandas-docs/stable/user_guide/indexing.html#returning-a-view-versus-a-copy\n",
      "  movie_data_nonduplicate['soup'] = movie_data_nonduplicate['keywords'] + movie_data_nonduplicate['cast'] + movie_data_nonduplicate['crew'] + movie_data_nonduplicate['genres']\n",
      "/tmp/ipykernel_632/3263076369.py:2: SettingWithCopyWarning: \n",
      "A value is trying to be set on a copy of a slice from a DataFrame.\n",
      "Try using .loc[row_indexer,col_indexer] = value instead\n",
      "\n",
      "See the caveats in the documentation: https://pandas.pydata.org/pandas-docs/stable/user_guide/indexing.html#returning-a-view-versus-a-copy\n",
      "  movie_data_nonduplicate['soup'] = movie_data_nonduplicate['soup'].apply(lambda x: ' '.join(x))\n"
     ]
    }
   ],
   "source": [
    "movie_data_nonduplicate['soup'] = movie_data_nonduplicate['keywords'] + movie_data_nonduplicate['cast'] + movie_data_nonduplicate['crew'] + movie_data_nonduplicate['genres']\n",
    "movie_data_nonduplicate['soup'] = movie_data_nonduplicate['soup'].apply(lambda x: ' '.join(x))"
   ]
  },
  {
   "cell_type": "code",
   "execution_count": 25,
   "metadata": {},
   "outputs": [
    {
     "data": {
      "text/plain": [
       "'LarsUlrich DeathAngel TomAngelripper RickErnst Documentary History Music'"
      ]
     },
     "execution_count": 25,
     "metadata": {},
     "output_type": "execute_result"
    }
   ],
   "source": [
    "movie_data_nonduplicate['soup'][0]"
   ]
  },
  {
   "cell_type": "code",
   "execution_count": 28,
   "metadata": {},
   "outputs": [
    {
     "data": {
      "text/plain": [
       "(5870, 70892)"
      ]
     },
     "execution_count": 28,
     "metadata": {},
     "output_type": "execute_result"
    }
   ],
   "source": [
    "count = CountVectorizer(analyzer='word',ngram_range=(1, 2),min_df=1, stop_words='english')\n",
    "count_matrix = count.fit_transform(movie_data_nonduplicate['soup'])\n",
    "count_matrix.shape"
   ]
  },
  {
   "cell_type": "code",
   "execution_count": 61,
   "metadata": {},
   "outputs": [
    {
     "data": {
      "text/plain": [
       "(1, 70892)"
      ]
     },
     "execution_count": 61,
     "metadata": {},
     "output_type": "execute_result"
    }
   ],
   "source": [
    "count_matrix[[0,1]].sum(0).shape"
   ]
  },
  {
   "cell_type": "code",
   "execution_count": 29,
   "metadata": {},
   "outputs": [],
   "source": [
    "cosine_sim1 = linear_kernel(tfidf_matrix, tfidf_matrix)\n",
    "cosine_sim2 = cosine_similarity(count_matrix, count_matrix)"
   ]
  },
  {
   "cell_type": "code",
   "execution_count": 39,
   "metadata": {},
   "outputs": [
    {
     "name": "stdout",
     "output_type": "stream",
     "text": [
      "29124.0 4\n"
     ]
    }
   ],
   "source": [
    "movie_id_rate = rate_data[rate_data['user_id'] == 797760][['kafka_id', 'user_rating']]\n",
    "feat = []\n",
    "for x, y in zip(movie_id_rate['kafka_id'], movie_id_rate['user_rating']):\n",
    "    rate_norm = (y-3.0)/2.0\n",
    "    movie_idx = movie_id_idx[x]\n",
    "    feat.append(tfidf_matrix[movie_idx] * rate_norm)\n",
    "feat = sum(feat)\n",
    "cos1 = linear_kernel(tfidf_matrix, feat)\n",
    "sim_scores = list(enumerate(cos1))\n",
    "sim_scores = sorted(sim_scores, key=lambda x: x[1], reverse=True)\n",
    "sim_scores = sim_scores[1:21]\n",
    "movie_ids = [movie_idx_id[i[0]] for i in sim_scores]"
   ]
  },
  {
   "cell_type": "code",
   "execution_count": null,
   "metadata": {},
   "outputs": [],
   "source": [
    "from sklearn.metrics import mean_squared_error\n",
    "def get_y_actual(user_id, rate_data, movie_id_idx, movie_idx_id, tfidf_matrix):\n",
    "    movie_id_rate = rate_data[rate_data['user_id'] == user_id][['kafka_id', 'user_rating']]\n",
    "    feat = []\n",
    "    for x, y in zip(movie_id_rate['kafka_id'], movie_id_rate['user_rating']):\n",
    "        rate_norm = (y-3.0)/2.0\n",
    "        movie_idx = movie_id_idx[x]\n",
    "rms = mean_squared_error(y_actual, y_predicted, squared=False)"
   ]
  },
  {
   "cell_type": "code",
   "execution_count": 12,
   "metadata": {},
   "outputs": [],
   "source": [
    "def get_recommendations(user_id):\n",
    "    movie_id_rate = rate_data[rate_data['user_id'] == user_id][['kafka_id', 'user_rating']]\n",
    "    feat = []\n",
    "    for x, y in zip(movie_id_rate['kafka_id'], movie_id_rate['user_rating']):\n",
    "        rate_norm = (y-3.0)/2.0\n",
    "        movie_idx = movie_id_idx[x]\n",
    "        feat.append(tfidf_matrix[movie_idx] * rate_norm)\n",
    "    feat = sum(feat)\n",
    "    cos1 = linear_kernel(tfidf_matrix, feat)\n",
    "    sim_scores = list(enumerate(cos1))\n",
    "    sim_scores = sorted(sim_scores, key=lambda x: x[1], reverse=True)\n",
    "    sim_scores = sim_scores[1:21]\n",
    "    movie_ids = [movie_idx_id[i[0]] for i in sim_scores]\n",
    "    return movie_ids"
   ]
  },
  {
   "cell_type": "code",
   "execution_count": 21,
   "metadata": {},
   "outputs": [
    {
     "name": "stdout",
     "output_type": "stream",
     "text": [
      "     movie_id  user_rating\n",
      "361       NaN            4\n"
     ]
    },
    {
     "ename": "KeyError",
     "evalue": "nan",
     "output_type": "error",
     "traceback": [
      "\u001b[0;31m---------------------------------------------------------------------------\u001b[0m",
      "\u001b[0;31mKeyError\u001b[0m                                  Traceback (most recent call last)",
      "Cell \u001b[0;32mIn[21], line 4\u001b[0m\n\u001b[1;32m      2\u001b[0m \u001b[39mfor\u001b[39;00m x, y \u001b[39min\u001b[39;00m \u001b[39mzip\u001b[39m(movie_id_rate[\u001b[39m'\u001b[39m\u001b[39mmovie_id\u001b[39m\u001b[39m'\u001b[39m], movie_id_rate[\u001b[39m'\u001b[39m\u001b[39muser_rating\u001b[39m\u001b[39m'\u001b[39m]):\n\u001b[1;32m      3\u001b[0m     \u001b[39mprint\u001b[39m(movie_id_rate)\n\u001b[0;32m----> 4\u001b[0m     \u001b[39mprint\u001b[39m(movie_id_idx[x])\n",
      "\u001b[0;31mKeyError\u001b[0m: nan"
     ]
    }
   ],
   "source": [
    "movie_id_rate = rate_data[rate_data['user_id'] == user_ids[361]][['movie_id', 'user_rating']]\n",
    "for x, y in zip(movie_id_rate['movie_id'], movie_id_rate['user_rating']):\n",
    "    print(movie_id_rate)\n",
    "    print(movie_id_idx[x])"
   ]
  },
  {
   "cell_type": "code",
   "execution_count": 15,
   "metadata": {},
   "outputs": [],
   "source": [
    "user_ids = list(rate_data['user_id'].unique())\n",
    "content_recommendation = dict()\n",
    "for user_id in user_ids:\n",
    "    content_recommendation[user_id] = get_recommendations(user_id)"
   ]
  },
  {
   "cell_type": "code",
   "execution_count": 17,
   "metadata": {},
   "outputs": [],
   "source": [
    "import pickle\n",
    "with open(\"contant_recommend.pkl\", \"wb\") as f:\n",
    "    pickle.dump(content_recommendation, f)"
   ]
  },
  {
   "cell_type": "code",
   "execution_count": 20,
   "metadata": {},
   "outputs": [],
   "source": [
    "# base_recommendation\n",
    "base_rate = rate_data[['kafka_id', 'vote_average']].sort_values(by='vote_average', ascending=False)\n",
    "base_recommendation = list(base_rate[:20]['kafka_id'])\n",
    "with open(\"base_recommend.pkl\", \"wb\") as f:\n",
    "    pickle.dump(base_recommendation, f)"
   ]
  },
  {
   "cell_type": "code",
   "execution_count": 18,
   "metadata": {},
   "outputs": [],
   "source": [
    "with open(\"user_id.pkl\", \"wb\") as f:\n",
    "    pickle.dump(user_ids, f)"
   ]
  },
  {
   "cell_type": "code",
   "execution_count": 20,
   "metadata": {},
   "outputs": [
    {
     "data": {
      "text/html": [
       "<div>\n",
       "<style scoped>\n",
       "    .dataframe tbody tr th:only-of-type {\n",
       "        vertical-align: middle;\n",
       "    }\n",
       "\n",
       "    .dataframe tbody tr th {\n",
       "        vertical-align: top;\n",
       "    }\n",
       "\n",
       "    .dataframe thead th {\n",
       "        text-align: right;\n",
       "    }\n",
       "</style>\n",
       "<table border=\"1\" class=\"dataframe\">\n",
       "  <thead>\n",
       "    <tr style=\"text-align: right;\">\n",
       "      <th></th>\n",
       "      <th>user_id</th>\n",
       "      <th>title_year</th>\n",
       "      <th>user_rating</th>\n",
       "      <th>tmdb_id</th>\n",
       "      <th>title</th>\n",
       "      <th>overview</th>\n",
       "      <th>genres</th>\n",
       "      <th>cast</th>\n",
       "      <th>crew</th>\n",
       "      <th>keywords</th>\n",
       "      <th>popularity</th>\n",
       "      <th>release_date</th>\n",
       "      <th>runtime</th>\n",
       "      <th>vote_average</th>\n",
       "      <th>vote_count</th>\n",
       "      <th>age</th>\n",
       "      <th>occupation</th>\n",
       "      <th>gender</th>\n",
       "    </tr>\n",
       "  </thead>\n",
       "  <tbody>\n",
       "    <tr>\n",
       "      <th>0</th>\n",
       "      <td>545008</td>\n",
       "      <td>harry+potter+and+the+half-blood+prince+2009</td>\n",
       "      <td>2</td>\n",
       "      <td>767.0</td>\n",
       "      <td>Harry Potter and the Half-Blood Prince</td>\n",
       "      <td>As Harry begins his sixth year at Hogwarts, he...</td>\n",
       "      <td>['Adventure', 'Fantasy', 'Family']</td>\n",
       "      <td>['Daniel Radcliffe', 'Rupert Grint', 'Emma Wat...</td>\n",
       "      <td>['David Yates']</td>\n",
       "      <td>['london,england', 'witch', 'magic', 'dyingand...</td>\n",
       "      <td>19.083723</td>\n",
       "      <td>2009-07-07</td>\n",
       "      <td>153.0</td>\n",
       "      <td>7.4</td>\n",
       "      <td>5435.0</td>\n",
       "      <td>19.0</td>\n",
       "      <td>scientist</td>\n",
       "      <td>M</td>\n",
       "    </tr>\n",
       "    <tr>\n",
       "      <th>1</th>\n",
       "      <td>323296</td>\n",
       "      <td>leon+the+professional+1994</td>\n",
       "      <td>4</td>\n",
       "      <td>101.0</td>\n",
       "      <td>Leon: The Professional</td>\n",
       "      <td>Leon, the top hit man in New York, has earned ...</td>\n",
       "      <td>['Thriller', 'Crime', 'Drama']</td>\n",
       "      <td>['Jean Reno', 'Natalie Portman', 'Gary Oldman']</td>\n",
       "      <td>['Luc Besson']</td>\n",
       "      <td>['newyorkcity', 'corruption', 'lossoflovedone'...</td>\n",
       "      <td>20.477329</td>\n",
       "      <td>1994-09-14</td>\n",
       "      <td>110.0</td>\n",
       "      <td>8.2</td>\n",
       "      <td>4293.0</td>\n",
       "      <td>28.0</td>\n",
       "      <td>college/grad student</td>\n",
       "      <td>M</td>\n",
       "    </tr>\n",
       "    <tr>\n",
       "      <th>2</th>\n",
       "      <td>426278</td>\n",
       "      <td>armageddon+1998</td>\n",
       "      <td>4</td>\n",
       "      <td>95.0</td>\n",
       "      <td>Armageddon</td>\n",
       "      <td>When an asteroid threatens to collide with Ear...</td>\n",
       "      <td>['Action', 'Thriller', 'ScienceFiction', 'Adve...</td>\n",
       "      <td>['Bruce Willis', 'Billy Bob Thornton', 'Ben Af...</td>\n",
       "      <td>['Michael Bay']</td>\n",
       "      <td>['savingtheworld', 'paris,france', 'moon', 'wa...</td>\n",
       "      <td>13.235112</td>\n",
       "      <td>1998-07-01</td>\n",
       "      <td>151.0</td>\n",
       "      <td>6.5</td>\n",
       "      <td>2540.0</td>\n",
       "      <td>28.0</td>\n",
       "      <td>scientist</td>\n",
       "      <td>M</td>\n",
       "    </tr>\n",
       "    <tr>\n",
       "      <th>3</th>\n",
       "      <td>358548</td>\n",
       "      <td>the+parallax+view+1974</td>\n",
       "      <td>4</td>\n",
       "      <td>17365.0</td>\n",
       "      <td>The Parallax View</td>\n",
       "      <td>An ambitious reporter gets in way-over-his-hea...</td>\n",
       "      <td>['Crime', 'Drama', 'Thriller']</td>\n",
       "      <td>['Warren Beatty', 'Paula Prentiss', 'William D...</td>\n",
       "      <td>['Alan J. Pakula']</td>\n",
       "      <td>['corruption', 'assassination', 'basedonnovelo...</td>\n",
       "      <td>4.432330</td>\n",
       "      <td>1974-06-14</td>\n",
       "      <td>102.0</td>\n",
       "      <td>6.9</td>\n",
       "      <td>70.0</td>\n",
       "      <td>34.0</td>\n",
       "      <td>executive/managerial</td>\n",
       "      <td>M</td>\n",
       "    </tr>\n",
       "    <tr>\n",
       "      <th>4</th>\n",
       "      <td>64177</td>\n",
       "      <td>x-men+days+of+future+past+2014</td>\n",
       "      <td>5</td>\n",
       "      <td>127585.0</td>\n",
       "      <td>X-Men: Days of Future Past</td>\n",
       "      <td>The ultimate X-Men ensemble fights a war for t...</td>\n",
       "      <td>['Action', 'Adventure', 'Fantasy', 'ScienceFic...</td>\n",
       "      <td>['Hugh Jackman', 'James McAvoy', 'Michael Fass...</td>\n",
       "      <td>['Bryan Singer']</td>\n",
       "      <td>['1970s', 'mutant', 'timetravel', 'basedoncomi...</td>\n",
       "      <td>26.058586</td>\n",
       "      <td>2014-05-15</td>\n",
       "      <td>131.0</td>\n",
       "      <td>7.5</td>\n",
       "      <td>6155.0</td>\n",
       "      <td>32.0</td>\n",
       "      <td>executive/managerial</td>\n",
       "      <td>M</td>\n",
       "    </tr>\n",
       "  </tbody>\n",
       "</table>\n",
       "</div>"
      ],
      "text/plain": [
       "   user_id                                   title_year  user_rating  \\\n",
       "0   545008  harry+potter+and+the+half-blood+prince+2009            2   \n",
       "1   323296                   leon+the+professional+1994            4   \n",
       "2   426278                              armageddon+1998            4   \n",
       "3   358548                       the+parallax+view+1974            4   \n",
       "4    64177               x-men+days+of+future+past+2014            5   \n",
       "\n",
       "    tmdb_id                                   title  \\\n",
       "0     767.0  Harry Potter and the Half-Blood Prince   \n",
       "1     101.0                  Leon: The Professional   \n",
       "2      95.0                              Armageddon   \n",
       "3   17365.0                       The Parallax View   \n",
       "4  127585.0              X-Men: Days of Future Past   \n",
       "\n",
       "                                            overview  \\\n",
       "0  As Harry begins his sixth year at Hogwarts, he...   \n",
       "1  Leon, the top hit man in New York, has earned ...   \n",
       "2  When an asteroid threatens to collide with Ear...   \n",
       "3  An ambitious reporter gets in way-over-his-hea...   \n",
       "4  The ultimate X-Men ensemble fights a war for t...   \n",
       "\n",
       "                                              genres  \\\n",
       "0                 ['Adventure', 'Fantasy', 'Family']   \n",
       "1                     ['Thriller', 'Crime', 'Drama']   \n",
       "2  ['Action', 'Thriller', 'ScienceFiction', 'Adve...   \n",
       "3                     ['Crime', 'Drama', 'Thriller']   \n",
       "4  ['Action', 'Adventure', 'Fantasy', 'ScienceFic...   \n",
       "\n",
       "                                                cast                crew  \\\n",
       "0  ['Daniel Radcliffe', 'Rupert Grint', 'Emma Wat...     ['David Yates']   \n",
       "1    ['Jean Reno', 'Natalie Portman', 'Gary Oldman']      ['Luc Besson']   \n",
       "2  ['Bruce Willis', 'Billy Bob Thornton', 'Ben Af...     ['Michael Bay']   \n",
       "3  ['Warren Beatty', 'Paula Prentiss', 'William D...  ['Alan J. Pakula']   \n",
       "4  ['Hugh Jackman', 'James McAvoy', 'Michael Fass...    ['Bryan Singer']   \n",
       "\n",
       "                                            keywords  popularity release_date  \\\n",
       "0  ['london,england', 'witch', 'magic', 'dyingand...   19.083723   2009-07-07   \n",
       "1  ['newyorkcity', 'corruption', 'lossoflovedone'...   20.477329   1994-09-14   \n",
       "2  ['savingtheworld', 'paris,france', 'moon', 'wa...   13.235112   1998-07-01   \n",
       "3  ['corruption', 'assassination', 'basedonnovelo...    4.432330   1974-06-14   \n",
       "4  ['1970s', 'mutant', 'timetravel', 'basedoncomi...   26.058586   2014-05-15   \n",
       "\n",
       "   runtime  vote_average  vote_count   age            occupation gender  \n",
       "0    153.0           7.4      5435.0  19.0             scientist      M  \n",
       "1    110.0           8.2      4293.0  28.0  college/grad student      M  \n",
       "2    151.0           6.5      2540.0  28.0             scientist      M  \n",
       "3    102.0           6.9        70.0  34.0  executive/managerial      M  \n",
       "4    131.0           7.5      6155.0  32.0  executive/managerial      M  "
      ]
     },
     "execution_count": 20,
     "metadata": {},
     "output_type": "execute_result"
    }
   ],
   "source": [
    "import pandas as pd\n",
    "\n",
    "val = pd.read_csv(\"train_data.csv\")\n",
    "val.head(5)"
   ]
  },
  {
   "cell_type": "code",
   "execution_count": 21,
   "metadata": {},
   "outputs": [
    {
     "data": {
      "text/plain": [
       "user_id           int64\n",
       "title_year       object\n",
       "user_rating       int64\n",
       "tmdb_id         float64\n",
       "title            object\n",
       "overview         object\n",
       "genres           object\n",
       "cast             object\n",
       "crew             object\n",
       "keywords         object\n",
       "popularity      float64\n",
       "release_date     object\n",
       "runtime         float64\n",
       "vote_average    float64\n",
       "vote_count      float64\n",
       "age             float64\n",
       "occupation       object\n",
       "gender           object\n",
       "dtype: object"
      ]
     },
     "execution_count": 21,
     "metadata": {},
     "output_type": "execute_result"
    }
   ],
   "source": [
    "val.dtypes"
   ]
  },
  {
   "cell_type": "code",
   "execution_count": 22,
   "metadata": {},
   "outputs": [
    {
     "data": {
      "text/plain": [
       "(127719, 18)"
      ]
     },
     "execution_count": 22,
     "metadata": {},
     "output_type": "execute_result"
    }
   ],
   "source": [
    "val.shape"
   ]
  },
  {
   "cell_type": "code",
   "execution_count": 23,
   "metadata": {},
   "outputs": [
    {
     "data": {
      "text/plain": [
       "1"
      ]
     },
     "execution_count": 23,
     "metadata": {},
     "output_type": "execute_result"
    }
   ],
   "source": [
    "val['age'].isna().sum()"
   ]
  },
  {
   "cell_type": "code",
   "execution_count": 25,
   "metadata": {},
   "outputs": [
    {
     "data": {
      "text/plain": [
       "Index(['user_id', 'title_year', 'user_rating', 'tmdb_id', 'title', 'overview',\n",
       "       'genres', 'cast', 'crew', 'keywords', 'popularity', 'release_date',\n",
       "       'runtime', 'vote_average', 'vote_count', 'age', 'occupation', 'gender'],\n",
       "      dtype='object')"
      ]
     },
     "execution_count": 25,
     "metadata": {},
     "output_type": "execute_result"
    }
   ],
   "source": [
    "val.columns"
   ]
  },
  {
   "cell_type": "code",
   "execution_count": 24,
   "metadata": {},
   "outputs": [
    {
     "data": {
      "text/plain": [
       "Index(['movie_id', 'title', 'overview', 'genres', 'keywords', 'cast', 'crew',\n",
       "       'popularity', 'runtime', 'vote_average', 'vote_count', 'release_date'],\n",
       "      dtype='object')"
      ]
     },
     "execution_count": 24,
     "metadata": {},
     "output_type": "execute_result"
    }
   ],
   "source": [
    "tmdb = pd.read_csv(\"../data_files/TMDB_SomewhatCleaned.csv\")\n",
    "tmdb.columns"
   ]
  },
  {
   "cell_type": "code",
   "execution_count": 11,
   "metadata": {},
   "outputs": [
    {
     "name": "stdout",
     "output_type": "stream",
     "text": [
      "[0 1 3]\n"
     ]
    }
   ],
   "source": [
    "import numpy as np\n",
    "\n",
    "def find_least_euclidean_distance_indices(A, B):\n",
    "    # Compute the Euclidean distance between each row in A and each row in B\n",
    "    distances = np.linalg.norm(A[:, np.newaxis, :] - B, axis=2)\n",
    "    # Find the indices of the rows in B with the minimum distances for each row in A\n",
    "    min_indices = np.argmin(distances, axis=1)\n",
    "    return min_indices\n",
    "\n",
    "\n",
    "A = np.array([[1, 2], [3, 4], [5, 6]])\n",
    "B = np.array([[1, 2], [2, 3], [4, 5], [5, 7]])\n",
    "\n",
    "indices = find_least_euclidean_distance_indices(A, B)\n",
    "\n",
    "print(indices)  # Output: [0 0 2]\n"
   ]
  },
  {
   "cell_type": "code",
   "execution_count": 13,
   "metadata": {},
   "outputs": [
    {
     "data": {
      "text/plain": [
       "array([1, 3])"
      ]
     },
     "execution_count": 13,
     "metadata": {},
     "output_type": "execute_result"
    }
   ],
   "source": [
    "np.array([1,2,3])[[0,2]]"
   ]
  }
 ],
 "metadata": {
  "kernelspec": {
   "display_name": "env",
   "language": "python",
   "name": "python3"
  },
  "language_info": {
   "codemirror_mode": {
    "name": "ipython",
    "version": 3
   },
   "file_extension": ".py",
   "mimetype": "text/x-python",
   "name": "python",
   "nbconvert_exporter": "python",
   "pygments_lexer": "ipython3",
   "version": "3.8.10"
  },
  "orig_nbformat": 4,
  "vscode": {
   "interpreter": {
    "hash": "f991a14301765fbaa17ff39fb15312f5b34dbdb60869bf5740f9754a2140885d"
   }
  }
 },
 "nbformat": 4,
 "nbformat_minor": 2
}
