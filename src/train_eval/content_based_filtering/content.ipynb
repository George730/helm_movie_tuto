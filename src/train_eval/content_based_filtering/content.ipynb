{
 "cells": [
  {
   "cell_type": "code",
   "execution_count": 1,
   "metadata": {},
   "outputs": [
    {
     "data": {
      "text/plain": [
       "(127719, 18)"
      ]
     },
     "execution_count": 1,
     "metadata": {},
     "output_type": "execute_result"
    }
   ],
   "source": [
    "import pandas as pd\n",
    "\n",
    "a = pd.read_csv(\"/home/changly/11695/group-project-s23-moviegpt/src/data_process/data_files/train_data.csv\")\n",
    "a.shape"
   ]
  },
  {
   "cell_type": "code",
   "execution_count": 3,
   "metadata": {},
   "outputs": [
    {
     "data": {
      "text/plain": [
       "['dragonfly+1976',\n",
       " 'reckless+1995',\n",
       " 'vessel+of+wrath+1938',\n",
       " 'blessed+event+1932',\n",
       " 'chilly+scenes+of+winter+1979',\n",
       " 'the+misadventures+of+margaret+1998',\n",
       " 'heavy+weather+1995',\n",
       " 'the+crush+1967',\n",
       " 'the+great+kidnapping+1973',\n",
       " 'vessel+of+wrath+1938',\n",
       " 'little+dorrit+1987',\n",
       " 'canned+dreams+2012',\n",
       " 'canned+dreams+2012',\n",
       " 'children+in+the+wind+1937',\n",
       " 'as+i+was+moving+ahead+occasionally+i+saw+brief+glimpses+of+beauty+2000',\n",
       " 'dilwale+dulhania+le+jayenge+1995',\n",
       " 'love+torn+in+a+dream+2000',\n",
       " 'serving+life+2011',\n",
       " 'deadline+2004',\n",
       " 'position+among+the+stars+2011']"
      ]
     },
     "execution_count": 3,
     "metadata": {},
     "output_type": "execute_result"
    }
   ],
   "source": [
    "import pickle\n",
    "import os\n",
    "# absolute_path = os.path.dirname(__file__)\n",
    "# cr_path = \"content_recommend\"\n",
    "with open(\"content_recommend/base_recommend.pkl\", \"rb\") as f:\n",
    "    base_recommend = pickle.load(file=f)\n",
    "base_recommend"
   ]
  },
  {
   "cell_type": "code",
   "execution_count": 2,
   "metadata": {},
   "outputs": [
    {
     "data": {
      "text/plain": [
       "Index(['user_id', 'title_year', 'user_rating', 'tmdb_id', 'title', 'overview',\n",
       "       'genres', 'cast', 'crew', 'keywords', 'popularity', 'release_date',\n",
       "       'runtime', 'vote_average', 'vote_count', 'age', 'occupation', 'gender'],\n",
       "      dtype='object')"
      ]
     },
     "execution_count": 2,
     "metadata": {},
     "output_type": "execute_result"
    }
   ],
   "source": [
    "a.columns"
   ]
  },
  {
   "cell_type": "code",
   "execution_count": 8,
   "metadata": {},
   "outputs": [
    {
     "data": {
      "text/plain": [
       "\"As Harry begins his sixth year at Hogwarts, he discovers an old book marked as 'Property of the Half-Blood Prince', and begins to learn more about Lord Voldemort's dark past.\""
      ]
     },
     "execution_count": 8,
     "metadata": {},
     "output_type": "execute_result"
    }
   ],
   "source": [
    "a['overview'][0]"
   ]
  },
  {
   "cell_type": "code",
   "execution_count": 3,
   "metadata": {},
   "outputs": [],
   "source": [
    "from content_based_filteringv2 import UserDataLoader\n",
    "user_data_loader = UserDataLoader(a)\n",
    "user_data_loader.get_user_feats()"
   ]
  },
  {
   "cell_type": "code",
   "execution_count": 4,
   "metadata": {},
   "outputs": [],
   "source": [
    "from content_based_filteringv2 import ContentFiltering\n",
    "import warnings\n",
    "warnings.filterwarnings(\"ignore\")\n",
    "train_data = a[['user_id', 'title_year', 'user_rating', 'age', 'gender', 'occupation', 'overview']]\n",
    "content_model = ContentFiltering()\n",
    "content_model.train(train_data)"
   ]
  },
  {
   "cell_type": "code",
   "execution_count": null,
   "metadata": {},
   "outputs": [],
   "source": []
  },
  {
   "cell_type": "code",
   "execution_count": 13,
   "metadata": {},
   "outputs": [
    {
     "name": "stderr",
     "output_type": "stream",
     "text": [
      "/tmp/ipykernel_8249/11990642.py:2: SettingWithCopyWarning: \n",
      "A value is trying to be set on a copy of a slice from a DataFrame.\n",
      "Try using .loc[row_indexer,col_indexer] = value instead\n",
      "\n",
      "See the caveats in the documentation: https://pandas.pydata.org/pandas-docs/stable/user_guide/indexing.html#returning-a-view-versus-a-copy\n",
      "  train_data['title_year_overview'] = train_data[\"title_year\"] + \" \" + train_data[\"overview\"]\n",
      "/tmp/ipykernel_8249/11990642.py:3: FutureWarning: The default value of regex will change from True to False in a future version. In addition, single character regular expressions will *not* be treated as literal strings when regex=True.\n",
      "  train_data['title_year_overview'] = train_data['title_year_overview'].str.replace('+', ' ')\n",
      "/tmp/ipykernel_8249/11990642.py:3: SettingWithCopyWarning: \n",
      "A value is trying to be set on a copy of a slice from a DataFrame.\n",
      "Try using .loc[row_indexer,col_indexer] = value instead\n",
      "\n",
      "See the caveats in the documentation: https://pandas.pydata.org/pandas-docs/stable/user_guide/indexing.html#returning-a-view-versus-a-copy\n",
      "  train_data['title_year_overview'] = train_data['title_year_overview'].str.replace('+', ' ')\n"
     ]
    },
    {
     "data": {
      "text/plain": [
       "(19299, 2)"
      ]
     },
     "execution_count": 13,
     "metadata": {},
     "output_type": "execute_result"
    }
   ],
   "source": [
    "train_data = a[['user_id', 'title_year', 'user_rating', 'age', 'gender', 'occupation', 'overview']]\n",
    "train_data['title_year_overview'] = train_data[\"title_year\"] + \" \" + train_data[\"overview\"]\n",
    "train_data['title_year_overview'] = train_data['title_year_overview'].str.replace('+', ' ')\n",
    "train_data = train_data[[\"title_year\", \"overview\"]].drop_duplicates(ignore_index=True)\n",
    "train_data.shape"
   ]
  },
  {
   "cell_type": "code",
   "execution_count": 9,
   "metadata": {},
   "outputs": [
    {
     "data": {
      "text/plain": [
       "Index(['title_year', 'overview'], dtype='object')"
      ]
     },
     "execution_count": 9,
     "metadata": {},
     "output_type": "execute_result"
    }
   ],
   "source": [
    "train_data.columns"
   ]
  },
  {
   "cell_type": "code",
   "execution_count": 12,
   "metadata": {},
   "outputs": [
    {
     "name": "stderr",
     "output_type": "stream",
     "text": [
      "/tmp/ipykernel_8249/2947136836.py:2: SettingWithCopyWarning: \n",
      "A value is trying to be set on a copy of a slice from a DataFrame.\n",
      "Try using .loc[row_indexer,col_indexer] = value instead\n",
      "\n",
      "See the caveats in the documentation: https://pandas.pydata.org/pandas-docs/stable/user_guide/indexing.html#returning-a-view-versus-a-copy\n",
      "  train_data['title_year_overview'] = train_data[\"title_year\"] + \" \" + train_data[\"overview\"]\n",
      "/tmp/ipykernel_8249/2947136836.py:3: FutureWarning: The default value of regex will change from True to False in a future version. In addition, single character regular expressions will *not* be treated as literal strings when regex=True.\n",
      "  train_data['title_year_overview'] = train_data['title_year_overview'].str.replace('+', ' ')\n",
      "/tmp/ipykernel_8249/2947136836.py:3: SettingWithCopyWarning: \n",
      "A value is trying to be set on a copy of a slice from a DataFrame.\n",
      "Try using .loc[row_indexer,col_indexer] = value instead\n",
      "\n",
      "See the caveats in the documentation: https://pandas.pydata.org/pandas-docs/stable/user_guide/indexing.html#returning-a-view-versus-a-copy\n",
      "  train_data['title_year_overview'] = train_data['title_year_overview'].str.replace('+', ' ')\n"
     ]
    },
    {
     "data": {
      "text/plain": [
       "(19299, 2)"
      ]
     },
     "execution_count": 12,
     "metadata": {},
     "output_type": "execute_result"
    }
   ],
   "source": [
    "train_data = a[['user_id', 'title_year', 'user_rating', 'age', 'gender', 'occupation', 'overview']]\n",
    "train_data['title_year_overview'] = train_data[\"title_year\"] + \" \" + train_data[\"overview\"]\n",
    "train_data['title_year_overview'] = train_data['title_year_overview'].str.replace('+', ' ')\n",
    "train_data_overview = train_data[[\"title_year_overview\", \"title_year\"]].drop_duplicates(subset=['title_year'], ignore_index=True)\n",
    "train_data_overview.shape"
   ]
  },
  {
   "cell_type": "code",
   "execution_count": 8,
   "metadata": {},
   "outputs": [
    {
     "data": {
      "text/html": [
       "<div>\n",
       "<style scoped>\n",
       "    .dataframe tbody tr th:only-of-type {\n",
       "        vertical-align: middle;\n",
       "    }\n",
       "\n",
       "    .dataframe tbody tr th {\n",
       "        vertical-align: top;\n",
       "    }\n",
       "\n",
       "    .dataframe thead th {\n",
       "        text-align: right;\n",
       "    }\n",
       "</style>\n",
       "<table border=\"1\" class=\"dataframe\">\n",
       "  <thead>\n",
       "    <tr style=\"text-align: right;\">\n",
       "      <th></th>\n",
       "      <th>user_id</th>\n",
       "      <th>title_year</th>\n",
       "      <th>user_rating</th>\n",
       "      <th>age</th>\n",
       "      <th>gender</th>\n",
       "      <th>occupation</th>\n",
       "      <th>overview</th>\n",
       "    </tr>\n",
       "  </thead>\n",
       "  <tbody>\n",
       "    <tr>\n",
       "      <th>0</th>\n",
       "      <td>545008</td>\n",
       "      <td>harry+potter+and+the+half-blood+prince+2009</td>\n",
       "      <td>2</td>\n",
       "      <td>19.0</td>\n",
       "      <td>M</td>\n",
       "      <td>scientist</td>\n",
       "      <td>As Harry begins his sixth year at Hogwarts, he...</td>\n",
       "    </tr>\n",
       "    <tr>\n",
       "      <th>1</th>\n",
       "      <td>323296</td>\n",
       "      <td>leon+the+professional+1994</td>\n",
       "      <td>4</td>\n",
       "      <td>28.0</td>\n",
       "      <td>M</td>\n",
       "      <td>college/grad student</td>\n",
       "      <td>Leon, the top hit man in New York, has earned ...</td>\n",
       "    </tr>\n",
       "    <tr>\n",
       "      <th>2</th>\n",
       "      <td>426278</td>\n",
       "      <td>armageddon+1998</td>\n",
       "      <td>4</td>\n",
       "      <td>28.0</td>\n",
       "      <td>M</td>\n",
       "      <td>scientist</td>\n",
       "      <td>When an asteroid threatens to collide with Ear...</td>\n",
       "    </tr>\n",
       "    <tr>\n",
       "      <th>3</th>\n",
       "      <td>358548</td>\n",
       "      <td>the+parallax+view+1974</td>\n",
       "      <td>4</td>\n",
       "      <td>34.0</td>\n",
       "      <td>M</td>\n",
       "      <td>executive/managerial</td>\n",
       "      <td>An ambitious reporter gets in way-over-his-hea...</td>\n",
       "    </tr>\n",
       "    <tr>\n",
       "      <th>4</th>\n",
       "      <td>64177</td>\n",
       "      <td>x-men+days+of+future+past+2014</td>\n",
       "      <td>5</td>\n",
       "      <td>32.0</td>\n",
       "      <td>M</td>\n",
       "      <td>executive/managerial</td>\n",
       "      <td>The ultimate X-Men ensemble fights a war for t...</td>\n",
       "    </tr>\n",
       "  </tbody>\n",
       "</table>\n",
       "</div>"
      ],
      "text/plain": [
       "   user_id                                   title_year  user_rating   age  \\\n",
       "0   545008  harry+potter+and+the+half-blood+prince+2009            2  19.0   \n",
       "1   323296                   leon+the+professional+1994            4  28.0   \n",
       "2   426278                              armageddon+1998            4  28.0   \n",
       "3   358548                       the+parallax+view+1974            4  34.0   \n",
       "4    64177               x-men+days+of+future+past+2014            5  32.0   \n",
       "\n",
       "  gender            occupation  \\\n",
       "0      M             scientist   \n",
       "1      M  college/grad student   \n",
       "2      M             scientist   \n",
       "3      M  executive/managerial   \n",
       "4      M  executive/managerial   \n",
       "\n",
       "                                            overview  \n",
       "0  As Harry begins his sixth year at Hogwarts, he...  \n",
       "1  Leon, the top hit man in New York, has earned ...  \n",
       "2  When an asteroid threatens to collide with Ear...  \n",
       "3  An ambitious reporter gets in way-over-his-hea...  \n",
       "4  The ultimate X-Men ensemble fights a war for t...  "
      ]
     },
     "execution_count": 8,
     "metadata": {},
     "output_type": "execute_result"
    }
   ],
   "source": [
    "train_data.head(5)"
   ]
  },
  {
   "cell_type": "code",
   "execution_count": 11,
   "metadata": {},
   "outputs": [
    {
     "data": {
      "text/plain": [
       "(19003, 491685)"
      ]
     },
     "execution_count": 11,
     "metadata": {},
     "output_type": "execute_result"
    }
   ],
   "source": [
    "train_data_overview = train_data[[\"overview\"]].drop_duplicates(ignore_index=True)\n",
    "tfidf = content_model.tfidf_vectorizer.fit_transform(train_data_overview[\"overview\"].astype('U').values)\n",
    "tfidf.shape"
   ]
  },
  {
   "cell_type": "code",
   "execution_count": 13,
   "metadata": {},
   "outputs": [
    {
     "data": {
      "text/plain": [
       "(19003, 1)"
      ]
     },
     "execution_count": 13,
     "metadata": {},
     "output_type": "execute_result"
    }
   ],
   "source": [
    "train_data_overview.shape"
   ]
  }
 ],
 "metadata": {
  "kernelspec": {
   "display_name": "env",
   "language": "python",
   "name": "python3"
  },
  "language_info": {
   "codemirror_mode": {
    "name": "ipython",
    "version": 3
   },
   "file_extension": ".py",
   "mimetype": "text/x-python",
   "name": "python",
   "nbconvert_exporter": "python",
   "pygments_lexer": "ipython3",
   "version": "3.8.10"
  },
  "orig_nbformat": 4
 },
 "nbformat": 4,
 "nbformat_minor": 2
}
